{
 "cells": [
  {
   "cell_type": "markdown",
   "metadata": {},
   "source": [
    "**Importing libraries**"
   ]
  },
  {
   "cell_type": "code",
   "execution_count": 2,
   "metadata": {
    "_cell_guid": "79c7e3d0-c299-4dcb-8224-4455121ee9b0",
    "_uuid": "d629ff2d2480ee46fbb7e2d37f6b5fab8052498a",
    "execution": {
     "iopub.execute_input": "2020-11-26T15:08:51.098328Z",
     "iopub.status.busy": "2020-11-26T15:08:51.097411Z",
     "iopub.status.idle": "2020-11-26T15:08:51.100321Z",
     "shell.execute_reply": "2020-11-26T15:08:51.099680Z"
    },
    "papermill": {
     "duration": 0.023225,
     "end_time": "2020-11-26T15:08:51.100425",
     "exception": false,
     "start_time": "2020-11-26T15:08:51.077200",
     "status": "completed"
    },
    "tags": []
   },
   "outputs": [],
   "source": [
    "import pandas as pd\n",
    "import numpy as np\n",
    "from sklearn.linear_model import LinearRegression\n",
    "import matplotlib.pyplot as plt\n",
    "import seaborn as sns\n",
    "from sklearn.model_selection import train_test_split\n",
    "from sklearn.preprocessing import StandardScaler\n",
    "from sklearn.metrics import mean_squared_error\n",
    "from sklearn.metrics import r2_score"
   ]
  },
  {
   "cell_type": "code",
   "execution_count": 3,
   "metadata": {
    "execution": {
     "iopub.execute_input": "2020-11-26T15:08:51.138576Z",
     "iopub.status.busy": "2020-11-26T15:08:51.137750Z",
     "iopub.status.idle": "2020-11-26T15:08:51.149997Z",
     "shell.execute_reply": "2020-11-26T15:08:51.149394Z"
    },
    "papermill": {
     "duration": 0.034636,
     "end_time": "2020-11-26T15:08:51.150160",
     "exception": false,
     "start_time": "2020-11-26T15:08:51.115524",
     "status": "completed"
    },
    "tags": []
   },
   "outputs": [],
   "source": [
    "car_data=pd.read_csv(\"../input/vehicle-dataset-from-cardekho/car data.csv\")"
   ]
  },
  {
   "cell_type": "markdown",
   "metadata": {},
   "source": [
    "**Data Pre-processing**"
   ]
  },
  {
   "cell_type": "code",
   "execution_count": 4,
   "metadata": {
    "execution": {
     "iopub.execute_input": "2020-11-26T15:08:51.189521Z",
     "iopub.status.busy": "2020-11-26T15:08:51.188669Z",
     "iopub.status.idle": "2020-11-26T15:08:51.208781Z",
     "shell.execute_reply": "2020-11-26T15:08:51.208239Z"
    },
    "papermill": {
     "duration": 0.045614,
     "end_time": "2020-11-26T15:08:51.208913",
     "exception": false,
     "start_time": "2020-11-26T15:08:51.163299",
     "status": "completed"
    },
    "tags": []
   },
   "outputs": [
    {
     "data": {
      "text/plain": [
       "Car_Name         0\n",
       "Year             0\n",
       "Selling_Price    0\n",
       "Present_Price    0\n",
       "Kms_Driven       0\n",
       "Fuel_Type        0\n",
       "Seller_Type      0\n",
       "Transmission     0\n",
       "Owner            0\n",
       "dtype: int64"
      ]
     },
     "execution_count": 4,
     "metadata": {},
     "output_type": "execute_result"
    }
   ],
   "source": [
    "car_data.isnull().sum()"
   ]
  },
  {
   "cell_type": "code",
   "execution_count": 5,
   "metadata": {
    "execution": {
     "iopub.execute_input": "2020-11-26T15:08:51.243402Z",
     "iopub.status.busy": "2020-11-26T15:08:51.242570Z",
     "iopub.status.idle": "2020-11-26T15:08:51.251036Z",
     "shell.execute_reply": "2020-11-26T15:08:51.250367Z"
    },
    "papermill": {
     "duration": 0.028744,
     "end_time": "2020-11-26T15:08:51.251230",
     "exception": false,
     "start_time": "2020-11-26T15:08:51.222486",
     "status": "completed"
    },
    "tags": []
   },
   "outputs": [
    {
     "data": {
      "text/plain": [
       "(301, 9)"
      ]
     },
     "execution_count": 5,
     "metadata": {},
     "output_type": "execute_result"
    }
   ],
   "source": [
    "car_data.shape"
   ]
  },
  {
   "cell_type": "code",
   "execution_count": 6,
   "metadata": {
    "execution": {
     "iopub.execute_input": "2020-11-26T15:08:51.300295Z",
     "iopub.status.busy": "2020-11-26T15:08:51.298947Z",
     "iopub.status.idle": "2020-11-26T15:08:51.306467Z",
     "shell.execute_reply": "2020-11-26T15:08:51.305734Z"
    },
    "papermill": {
     "duration": 0.036856,
     "end_time": "2020-11-26T15:08:51.306603",
     "exception": false,
     "start_time": "2020-11-26T15:08:51.269747",
     "status": "completed"
    },
    "tags": []
   },
   "outputs": [],
   "source": [
    "car_data=pd.get_dummies(car_data,columns=['Fuel_Type','Seller_Type','Transmission'],drop_first=True)"
   ]
  },
  {
   "cell_type": "code",
   "execution_count": 7,
   "metadata": {
    "execution": {
     "iopub.execute_input": "2020-11-26T15:08:51.360361Z",
     "iopub.status.busy": "2020-11-26T15:08:51.359264Z",
     "iopub.status.idle": "2020-11-26T15:08:51.372764Z",
     "shell.execute_reply": "2020-11-26T15:08:51.373592Z"
    },
    "papermill": {
     "duration": 0.048949,
     "end_time": "2020-11-26T15:08:51.373790",
     "exception": false,
     "start_time": "2020-11-26T15:08:51.324841",
     "status": "completed"
    },
    "tags": []
   },
   "outputs": [
    {
     "data": {
      "text/html": [
       "<div>\n",
       "<style scoped>\n",
       "    .dataframe tbody tr th:only-of-type {\n",
       "        vertical-align: middle;\n",
       "    }\n",
       "\n",
       "    .dataframe tbody tr th {\n",
       "        vertical-align: top;\n",
       "    }\n",
       "\n",
       "    .dataframe thead th {\n",
       "        text-align: right;\n",
       "    }\n",
       "</style>\n",
       "<table border=\"1\" class=\"dataframe\">\n",
       "  <thead>\n",
       "    <tr style=\"text-align: right;\">\n",
       "      <th></th>\n",
       "      <th>Car_Name</th>\n",
       "      <th>Year</th>\n",
       "      <th>Selling_Price</th>\n",
       "      <th>Present_Price</th>\n",
       "      <th>Kms_Driven</th>\n",
       "      <th>Owner</th>\n",
       "      <th>Fuel_Type_Diesel</th>\n",
       "      <th>Fuel_Type_Petrol</th>\n",
       "      <th>Seller_Type_Individual</th>\n",
       "      <th>Transmission_Manual</th>\n",
       "    </tr>\n",
       "  </thead>\n",
       "  <tbody>\n",
       "    <tr>\n",
       "      <th>0</th>\n",
       "      <td>ritz</td>\n",
       "      <td>2014</td>\n",
       "      <td>3.35</td>\n",
       "      <td>5.59</td>\n",
       "      <td>27000</td>\n",
       "      <td>0</td>\n",
       "      <td>0</td>\n",
       "      <td>1</td>\n",
       "      <td>0</td>\n",
       "      <td>1</td>\n",
       "    </tr>\n",
       "    <tr>\n",
       "      <th>1</th>\n",
       "      <td>sx4</td>\n",
       "      <td>2013</td>\n",
       "      <td>4.75</td>\n",
       "      <td>9.54</td>\n",
       "      <td>43000</td>\n",
       "      <td>0</td>\n",
       "      <td>1</td>\n",
       "      <td>0</td>\n",
       "      <td>0</td>\n",
       "      <td>1</td>\n",
       "    </tr>\n",
       "    <tr>\n",
       "      <th>2</th>\n",
       "      <td>ciaz</td>\n",
       "      <td>2017</td>\n",
       "      <td>7.25</td>\n",
       "      <td>9.85</td>\n",
       "      <td>6900</td>\n",
       "      <td>0</td>\n",
       "      <td>0</td>\n",
       "      <td>1</td>\n",
       "      <td>0</td>\n",
       "      <td>1</td>\n",
       "    </tr>\n",
       "    <tr>\n",
       "      <th>3</th>\n",
       "      <td>wagon r</td>\n",
       "      <td>2011</td>\n",
       "      <td>2.85</td>\n",
       "      <td>4.15</td>\n",
       "      <td>5200</td>\n",
       "      <td>0</td>\n",
       "      <td>0</td>\n",
       "      <td>1</td>\n",
       "      <td>0</td>\n",
       "      <td>1</td>\n",
       "    </tr>\n",
       "    <tr>\n",
       "      <th>4</th>\n",
       "      <td>swift</td>\n",
       "      <td>2014</td>\n",
       "      <td>4.60</td>\n",
       "      <td>6.87</td>\n",
       "      <td>42450</td>\n",
       "      <td>0</td>\n",
       "      <td>1</td>\n",
       "      <td>0</td>\n",
       "      <td>0</td>\n",
       "      <td>1</td>\n",
       "    </tr>\n",
       "  </tbody>\n",
       "</table>\n",
       "</div>"
      ],
      "text/plain": [
       "  Car_Name  Year  Selling_Price  Present_Price  Kms_Driven  Owner  \\\n",
       "0     ritz  2014           3.35           5.59       27000      0   \n",
       "1      sx4  2013           4.75           9.54       43000      0   \n",
       "2     ciaz  2017           7.25           9.85        6900      0   \n",
       "3  wagon r  2011           2.85           4.15        5200      0   \n",
       "4    swift  2014           4.60           6.87       42450      0   \n",
       "\n",
       "   Fuel_Type_Diesel  Fuel_Type_Petrol  Seller_Type_Individual  \\\n",
       "0                 0                 1                       0   \n",
       "1                 1                 0                       0   \n",
       "2                 0                 1                       0   \n",
       "3                 0                 1                       0   \n",
       "4                 1                 0                       0   \n",
       "\n",
       "   Transmission_Manual  \n",
       "0                    1  \n",
       "1                    1  \n",
       "2                    1  \n",
       "3                    1  \n",
       "4                    1  "
      ]
     },
     "execution_count": 7,
     "metadata": {},
     "output_type": "execute_result"
    }
   ],
   "source": [
    "car_data.head()"
   ]
  },
  {
   "cell_type": "code",
   "execution_count": 8,
   "metadata": {
    "execution": {
     "iopub.execute_input": "2020-11-26T15:08:51.429694Z",
     "iopub.status.busy": "2020-11-26T15:08:51.428640Z",
     "iopub.status.idle": "2020-11-26T15:08:53.011388Z",
     "shell.execute_reply": "2020-11-26T15:08:53.012082Z"
    },
    "papermill": {
     "duration": 1.611817,
     "end_time": "2020-11-26T15:08:53.012247",
     "exception": false,
     "start_time": "2020-11-26T15:08:51.400430",
     "status": "completed"
    },
    "scrolled": true,
    "tags": []
   },
   "outputs": [
    {
     "data": {
      "text/plain": [
       "<matplotlib.axes._subplots.AxesSubplot at 0x7f81553da890>"
      ]
     },
     "execution_count": 8,
     "metadata": {},
     "output_type": "execute_result"
    },
    {
     "data": {
      "image/png": "[encoded data removed]",
      "text/plain": [
       "<Figure size 720x720 with 2 Axes>"
      ]
     },
     "metadata": {
      "needs_background": "light"
     },
     "output_type": "display_data"
    }
   ],
   "source": [
    "correlations=car_data.corr()\n",
    "indx=correlations.index\n",
    "plt.figure(figsize=(10,10))\n",
    "sns.heatmap(car_data[indx].corr(),annot=True,cmap=\"rainbow\")"
   ]
  },
  {
   "cell_type": "code",
   "execution_count": 9,
   "metadata": {
    "execution": {
     "iopub.execute_input": "2020-11-26T15:08:53.050691Z",
     "iopub.status.busy": "2020-11-26T15:08:53.050014Z",
     "iopub.status.idle": "2020-11-26T15:08:53.171656Z",
     "shell.execute_reply": "2020-11-26T15:08:53.170983Z"
    },
    "papermill": {
     "duration": 0.142198,
     "end_time": "2020-11-26T15:08:53.171765",
     "exception": false,
     "start_time": "2020-11-26T15:08:53.029567",
     "status": "completed"
    },
    "tags": []
   },
   "outputs": [],
   "source": [
    "car_train,car_test=train_test_split(car_data,test_size=0.2,random_state=100)"
   ]
  },
  {
   "cell_type": "code",
   "execution_count": 10,
   "metadata": {
    "execution": {
     "iopub.execute_input": "2020-11-26T15:08:53.218144Z",
     "iopub.status.busy": "2020-11-26T15:08:53.217504Z",
     "iopub.status.idle": "2020-11-26T15:08:53.230918Z",
     "shell.execute_reply": "2020-11-26T15:08:53.230359Z"
    },
    "papermill": {
     "duration": 0.042694,
     "end_time": "2020-11-26T15:08:53.231083",
     "exception": false,
     "start_time": "2020-11-26T15:08:53.188389",
     "status": "completed"
    },
    "tags": []
   },
   "outputs": [
    {
     "name": "stderr",
     "output_type": "stream",
     "text": [
      "/opt/conda/lib/python3.7/site-packages/ipykernel_launcher.py:5: SettingWithCopyWarning: \n",
      "A value is trying to be set on a copy of a slice from a DataFrame.\n",
      "Try using .loc[row_indexer,col_indexer] = value instead\n",
      "\n",
      "See the caveats in the documentation: https://pandas.pydata.org/pandas-docs/stable/user_guide/indexing.html#returning-a-view-versus-a-copy\n",
      "  \"\"\"\n",
      "/opt/conda/lib/python3.7/site-packages/pandas/core/indexing.py:1734: SettingWithCopyWarning: \n",
      "A value is trying to be set on a copy of a slice from a DataFrame.\n",
      "Try using .loc[row_indexer,col_indexer] = value instead\n",
      "\n",
      "See the caveats in the documentation: https://pandas.pydata.org/pandas-docs/stable/user_guide/indexing.html#returning-a-view-versus-a-copy\n",
      "  isetter(loc, value[:, i].tolist())\n",
      "/opt/conda/lib/python3.7/site-packages/ipykernel_launcher.py:6: SettingWithCopyWarning: \n",
      "A value is trying to be set on a copy of a slice from a DataFrame.\n",
      "Try using .loc[row_indexer,col_indexer] = value instead\n",
      "\n",
      "See the caveats in the documentation: https://pandas.pydata.org/pandas-docs/stable/user_guide/indexing.html#returning-a-view-versus-a-copy\n",
      "  \n",
      "/opt/conda/lib/python3.7/site-packages/pandas/core/indexing.py:1734: SettingWithCopyWarning: \n",
      "A value is trying to be set on a copy of a slice from a DataFrame.\n",
      "Try using .loc[row_indexer,col_indexer] = value instead\n",
      "\n",
      "See the caveats in the documentation: https://pandas.pydata.org/pandas-docs/stable/user_guide/indexing.html#returning-a-view-versus-a-copy\n",
      "  isetter(loc, value[:, i].tolist())\n"
     ]
    }
   ],
   "source": [
    "scaler= StandardScaler()\n",
    "var=['Selling_Price','Present_Price','Kms_Driven']\n",
    "car_train[var]=scaler.fit_transform(car_train[var])\n",
    "car_test[var]=scaler.transform(car_test[var])"
   ]
  },
  {
   "cell_type": "markdown",
   "metadata": {},
   "source": [
    "**Dividing the dataset into train & test**"
   ]
  },
  {
   "cell_type": "code",
   "execution_count": 11,
   "metadata": {
    "execution": {
     "iopub.execute_input": "2020-11-26T15:08:53.274099Z",
     "iopub.status.busy": "2020-11-26T15:08:53.273459Z",
     "iopub.status.idle": "2020-11-26T15:08:53.276477Z",
     "shell.execute_reply": "2020-11-26T15:08:53.276928Z"
    },
    "papermill": {
     "duration": 0.028495,
     "end_time": "2020-11-26T15:08:53.277043",
     "exception": false,
     "start_time": "2020-11-26T15:08:53.248548",
     "status": "completed"
    },
    "tags": []
   },
   "outputs": [],
   "source": [
    "X_train=car_train.drop(columns=['Car_Name','Selling_Price'],axis=1)\n",
    "X_test=car_test.drop(columns=['Car_Name','Selling_Price'],axis=1)\n",
    "y_train=car_train['Selling_Price']\n",
    "y_test=car_test['Selling_Price']"
   ]
  },
  {
   "cell_type": "markdown",
   "metadata": {},
   "source": [
    "**Performing Linear Regression**"
   ]
  },
  {
   "cell_type": "code",
   "execution_count": 12,
   "metadata": {
    "execution": {
     "iopub.execute_input": "2020-11-26T15:08:53.316413Z",
     "iopub.status.busy": "2020-11-26T15:08:53.315789Z",
     "iopub.status.idle": "2020-11-26T15:08:53.437430Z",
     "shell.execute_reply": "2020-11-26T15:08:53.436688Z"
    },
    "papermill": {
     "duration": 0.143129,
     "end_time": "2020-11-26T15:08:53.437580",
     "exception": false,
     "start_time": "2020-11-26T15:08:53.294451",
     "status": "completed"
    },
    "tags": []
   },
   "outputs": [],
   "source": [
    "regressor=LinearRegression()\n",
    "regressor=regressor.fit(X_train,y_train)"
   ]
  },
  {
   "cell_type": "code",
   "execution_count": 13,
   "metadata": {
    "execution": {
     "iopub.execute_input": "2020-11-26T15:08:53.494767Z",
     "iopub.status.busy": "2020-11-26T15:08:53.494037Z",
     "iopub.status.idle": "2020-11-26T15:08:53.497208Z",
     "shell.execute_reply": "2020-11-26T15:08:53.496494Z"
    },
    "papermill": {
     "duration": 0.034133,
     "end_time": "2020-11-26T15:08:53.497316",
     "exception": false,
     "start_time": "2020-11-26T15:08:53.463183",
     "status": "completed"
    },
    "tags": []
   },
   "outputs": [],
   "source": [
    "y_pred=regressor.predict(X_test)"
   ]
  },
  {
   "cell_type": "code",
   "execution_count": 14,
   "metadata": {
    "execution": {
     "iopub.execute_input": "2020-11-26T15:08:53.549912Z",
     "iopub.status.busy": "2020-11-26T15:08:53.541637Z",
     "iopub.status.idle": "2020-11-26T15:08:53.696325Z",
     "shell.execute_reply": "2020-11-26T15:08:53.695495Z"
    },
    "papermill": {
     "duration": 0.179314,
     "end_time": "2020-11-26T15:08:53.696458",
     "exception": false,
     "start_time": "2020-11-26T15:08:53.517144",
     "status": "completed"
    },
    "tags": []
   },
   "outputs": [
    {
     "data": {
      "text/plain": [
       "<matplotlib.collections.PathCollection at 0x7f814c5661d0>"
      ]
     },
     "execution_count": 14,
     "metadata": {},
     "output_type": "execute_result"
    },
    {
     "data": {
      "image/png": "[encoded data removed]",
      "text/plain": [
       "<Figure size 432x288 with 1 Axes>"
      ]
     },
     "metadata": {
      "needs_background": "light"
     },
     "output_type": "display_data"
    }
   ],
   "source": [
    "fig = plt.figure()\n",
    "# Plot-label\n",
    "fig.suptitle('y_test vs predictions')\n",
    "\n",
    "#X-label\n",
    "plt.xlabel('y_test')\n",
    "\n",
    "# Y-label\n",
    "plt.ylabel('predcitions')\n",
    "plt.scatter(y_test,y_pred)"
   ]
  },
  {
   "cell_type": "code",
   "execution_count": 15,
   "metadata": {
    "execution": {
     "iopub.execute_input": "2020-11-26T15:08:53.756529Z",
     "iopub.status.busy": "2020-11-26T15:08:53.755699Z",
     "iopub.status.idle": "2020-11-26T15:08:53.761417Z",
     "shell.execute_reply": "2020-11-26T15:08:53.760580Z"
    },
    "papermill": {
     "duration": 0.038126,
     "end_time": "2020-11-26T15:08:53.761537",
     "exception": false,
     "start_time": "2020-11-26T15:08:53.723411",
     "status": "completed"
    },
    "tags": []
   },
   "outputs": [
    {
     "data": {
      "text/plain": [
       "0.21174768834350252"
      ]
     },
     "execution_count": 15,
     "metadata": {},
     "output_type": "execute_result"
    }
   ],
   "source": [
    "mean_squared_error(y_test,y_pred)"
   ]
  },
  {
   "cell_type": "code",
   "execution_count": 16,
   "metadata": {
    "execution": {
     "iopub.execute_input": "2020-11-26T15:08:53.823554Z",
     "iopub.status.busy": "2020-11-26T15:08:53.822507Z",
     "iopub.status.idle": "2020-11-26T15:08:53.827619Z",
     "shell.execute_reply": "2020-11-26T15:08:53.826947Z"
    },
    "papermill": {
     "duration": 0.038557,
     "end_time": "2020-11-26T15:08:53.827728",
     "exception": false,
     "start_time": "2020-11-26T15:08:53.789171",
     "status": "completed"
    },
    "tags": []
   },
   "outputs": [
    {
     "data": {
      "text/plain": [
       "0.7881190801068392"
      ]
     },
     "execution_count": 16,
     "metadata": {},
     "output_type": "execute_result"
    }
   ],
   "source": [
    "r2_score(y_test,y_pred)"
   ]
  }
 ],
 "metadata": {
  "kernelspec": {
   "display_name": "Python 3",
   "language": "python",
   "name": "python3"
  },
  "language_info": {
   "codemirror_mode": {
    "name": "ipython",
    "version": 3
   },
   "file_extension": ".py",
   "mimetype": "text/x-python",
   "name": "python",
   "nbconvert_exporter": "python",
   "pygments_lexer": "ipython3",
   "version": "3.8.8"
  },
  "papermill": {
   "duration": 7.243073,
   "end_time": "2020-11-26T15:08:53.994850",
   "environment_variables": {},
   "exception": null,
   "input_path": "__notebook__.ipynb",
   "output_path": "__notebook__.ipynb",
   "parameters": {},
   "start_time": "2020-11-26T15:08:46.751777",
   "version": "2.1.0"
  }
 },
 "nbformat": 4,
 "nbformat_minor": 4
}
